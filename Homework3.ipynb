{
  "nbformat": 4,
  "nbformat_minor": 0,
  "metadata": {
    "colab": {
      "name": "Homework3.ipynb",
      "version": "0.3.2",
      "provenance": [],
      "include_colab_link": true
    },
    "kernelspec": {
      "name": "python3",
      "display_name": "Python 3"
    }
  },
  "cells": [
    {
      "cell_type": "markdown",
      "metadata": {
        "id": "view-in-github",
        "colab_type": "text"
      },
      "source": [
        "<a href=\"https://colab.research.google.com/github/CrimsonFox1/Plotly-PCA-Assignment/blob/master/Homework3.ipynb\" target=\"_parent\"><img src=\"https://colab.research.google.com/assets/colab-badge.svg\" alt=\"Open In Colab\"/></a>"
      ]
    },
    {
      "metadata": {
        "id": "z_Pf29PuPWQj",
        "colab_type": "code",
        "colab": {}
      },
      "cell_type": "code",
      "source": [
        "import numpy as np\n",
        "import pandas as pd\n",
        "import scipy as sp\n",
        "\n",
        "import plotly.plotly as py\n",
        "import plotly.graph_objs as go\n",
        "import plotly.figure_factory as FF\n",
        "\n",
        "from plotly import tools\n",
        "\n",
        "\n"
      ],
      "execution_count": 0,
      "outputs": []
    },
    {
      "metadata": {
        "id": "deNrnyaXLSYk",
        "colab_type": "code",
        "colab": {}
      },
      "cell_type": "code",
      "source": [
        "import plotly \n",
        "plotly.tools.set_credentials_file(username='CrimsonFox1', api_key='cq7EE9JHiJcfGSi0Rp8R')"
      ],
      "execution_count": 0,
      "outputs": []
    },
    {
      "metadata": {
        "id": "4NQYKZ0nEhrI",
        "colab_type": "code",
        "outputId": "3b5acb9d-e8cc-466b-db2b-14ff569b57e3",
        "colab": {
          "base_uri": "https://localhost:8080/",
          "height": 251
        }
      },
      "cell_type": "code",
      "source": [
        "df = pd.read_csv('https://raw.githubusercontent.com/CrimsonFox1/Plotly-PCA-Assignment/master/WHO_data.csv')\n",
        "\n",
        "df_external_source = FF.create_table(df.tail())\n",
        "py.iplot(df_external_source, filename='df-external-source-table')\n",
        "      \n"
      ],
      "execution_count": 4,
      "outputs": [
        {
          "output_type": "execute_result",
          "data": {
            "text/html": [
              "<iframe id=\"igraph\" scrolling=\"no\" style=\"border:none;\" seamless=\"seamless\" src=\"https://plot.ly/~CrimsonFox1/4.embed\" height=\"230px\" width=\"100%\"></iframe>"
            ],
            "text/plain": [
              "<plotly.tools.PlotlyDisplay object>"
            ]
          },
          "metadata": {
            "tags": []
          },
          "execution_count": 4
        }
      ]
    },
    {
      "metadata": {
        "id": "neleSi_Kf_LM",
        "colab_type": "code",
        "outputId": "79c37fb5-553c-48f3-c52e-b81660a9745b",
        "colab": {
          "base_uri": "https://localhost:8080/",
          "height": 619
        }
      },
      "cell_type": "code",
      "source": [
        "trace1 = go.Scatter(x = df['Year'], y = df['OOPPC'], name='OOP Per Capita')\n",
        "trace2 = go.Scatter(x = df['Year'], y = df['CHPPC_Dollar'], name='CHE Per Capita')\n",
        "trace3 = go.Scatter(x = df['Year'], y = df['CHPPGDP'], name='CHE Per Capita as % ff GDP')\n",
        "trace4 = go.Scatter(x = df['Year'], y = df['DPHEPC_Dollar'], name='PVT-D Per Capita')\n",
        "\n",
        "\n",
        "fig = tools.make_subplots(rows=2, cols=2, subplot_titles=('Out-of-Pocket Expenditure (OOP) Per Capita In US',\n",
        "                                                          'Current health Expenditure (CHE) Per Capita In US',\n",
        "                                                          'Current health Expenditure (CHE) As % of GDP In US',\n",
        "                                                          'Domestic Private Health Expenditure (PVT-D) Per Capita In US'))\n",
        "                                                          \n",
        "fig.append_trace(trace1, 1, 1),\n",
        "fig.append_trace(trace2, 1, 2)\n",
        "fig.append_trace(trace3, 2, 1)\n",
        "fig.append_trace(trace4, 2, 2)\n",
        "\n",
        "\n",
        "\n",
        "fig['layout']['xaxis1'].update(title='Year')\n",
        "fig['layout']['xaxis2'].update(title='Year')\n",
        "fig['layout']['xaxis3'].update(title='Year')\n",
        "fig['layout']['xaxis4'].update(title='Year')\n",
        "\n",
        "\n",
        "fig['layout']['yaxis1'].update(title='US Dollar')\n",
        "fig['layout']['yaxis2'].update(title='US Dollar') \n",
        "fig['layout']['yaxis3'].update(title='Percentage')\n",
        "fig['layout']['yaxis4'].update(title='US Dollar')\n",
        "\n",
        "\n",
        "fig['layout'].update(title='THE UNITED STATES OF AMERICA HEALTH CARE EXPENDINTURE REPORT')\n",
        "\n",
        "py.iplot(fig, filename='customizing-subplot-axes')"
      ],
      "execution_count": 8,
      "outputs": [
        {
          "output_type": "stream",
          "text": [
            "This is the format of your plot grid:\n",
            "[ (1,1) x1,y1 ]  [ (1,2) x2,y2 ]\n",
            "[ (2,1) x3,y3 ]  [ (2,2) x4,y4 ]\n",
            "\n"
          ],
          "name": "stdout"
        },
        {
          "output_type": "execute_result",
          "data": {
            "text/html": [
              "<iframe id=\"igraph\" scrolling=\"no\" style=\"border:none;\" seamless=\"seamless\" src=\"https://plot.ly/~CrimsonFox1/8.embed\" height=\"525px\" width=\"100%\"></iframe>"
            ],
            "text/plain": [
              "<plotly.tools.PlotlyDisplay object>"
            ]
          },
          "metadata": {
            "tags": []
          },
          "execution_count": 8
        }
      ]
    }
  ]
}